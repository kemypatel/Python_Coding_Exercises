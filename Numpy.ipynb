{
 "cells": [
  {
   "cell_type": "markdown",
   "metadata": {},
   "source": [
    "# Creating Numpy Array\n",
    "\n",
    "## Basic array"
   ]
  },
  {
   "cell_type": "code",
   "execution_count": 1,
   "metadata": {},
   "outputs": [],
   "source": [
    "import numpy as np"
   ]
  },
  {
   "cell_type": "code",
   "execution_count": 2,
   "metadata": {},
   "outputs": [
    {
     "data": {
      "text/plain": [
       "array([1, 2, 3, 4])"
      ]
     },
     "execution_count": 2,
     "metadata": {},
     "output_type": "execute_result"
    }
   ],
   "source": [
    "#1d array\n",
    "np.array([1,2,3,4])"
   ]
  },
  {
   "cell_type": "code",
   "execution_count": 3,
   "metadata": {},
   "outputs": [
    {
     "data": {
      "text/plain": [
       "array([[1, 2, 3, 4],\n",
       "       [5, 6, 7, 8]])"
      ]
     },
     "execution_count": 3,
     "metadata": {},
     "output_type": "execute_result"
    }
   ],
   "source": [
    "#multi-dimensional array\n",
    "np.array([[1,2,3,4],[5,6,7,8]])"
   ]
  },
  {
   "cell_type": "markdown",
   "metadata": {},
   "source": [
    "## array with zeros"
   ]
  },
  {
   "cell_type": "code",
   "execution_count": 4,
   "metadata": {},
   "outputs": [
    {
     "data": {
      "text/plain": [
       "array([0., 0., 0., 0., 0.])"
      ]
     },
     "execution_count": 4,
     "metadata": {},
     "output_type": "execute_result"
    }
   ],
   "source": [
    "# 1d array\n",
    "np.zeros(5)"
   ]
  },
  {
   "cell_type": "code",
   "execution_count": 5,
   "metadata": {},
   "outputs": [
    {
     "data": {
      "text/plain": [
       "array([[0., 0., 0.],\n",
       "       [0., 0., 0.]])"
      ]
     },
     "execution_count": 5,
     "metadata": {},
     "output_type": "execute_result"
    }
   ],
   "source": [
    "# multi-dimensional array\n",
    "np.zeros((2,3))"
   ]
  },
  {
   "cell_type": "markdown",
   "metadata": {},
   "source": [
    "## Array of ones"
   ]
  },
  {
   "cell_type": "code",
   "execution_count": 6,
   "metadata": {},
   "outputs": [
    {
     "data": {
      "text/plain": [
       "array([1, 1, 1, 1, 1])"
      ]
     },
     "execution_count": 6,
     "metadata": {},
     "output_type": "execute_result"
    }
   ],
   "source": [
    "# 1d array\n",
    "np.ones(5,dtype=np.int32)"
   ]
  },
  {
   "cell_type": "code",
   "execution_count": 7,
   "metadata": {},
   "outputs": [
    {
     "data": {
      "text/plain": [
       "array([[1, 1, 1, 1, 1],\n",
       "       [1, 1, 1, 1, 1],\n",
       "       [1, 1, 1, 1, 1],\n",
       "       [1, 1, 1, 1, 1],\n",
       "       [1, 1, 1, 1, 1]])"
      ]
     },
     "execution_count": 7,
     "metadata": {},
     "output_type": "execute_result"
    }
   ],
   "source": [
    "# multi-dimensional array\n",
    "np.ones((5,5),dtype=np.int32)"
   ]
  },
  {
   "cell_type": "markdown",
   "metadata": {},
   "source": [
    "## Random numbers in ndarrays"
   ]
  },
  {
   "cell_type": "code",
   "execution_count": 8,
   "metadata": {},
   "outputs": [
    {
     "data": {
      "text/plain": [
       "array([[0.29591407, 0.64218061, 0.87027538],\n",
       "       [0.78052024, 0.95992485, 0.85890317]])"
      ]
     },
     "execution_count": 8,
     "metadata": {},
     "output_type": "execute_result"
    }
   ],
   "source": [
    "#creates array of random numbers\n",
    "np.random.rand(2,3)"
   ]
  },
  {
   "cell_type": "markdown",
   "metadata": {},
   "source": [
    "## An array of your choice"
   ]
  },
  {
   "cell_type": "code",
   "execution_count": 9,
   "metadata": {},
   "outputs": [
    {
     "data": {
      "text/plain": [
       "array([[7, 7],\n",
       "       [7, 7]])"
      ]
     },
     "execution_count": 9,
     "metadata": {},
     "output_type": "execute_result"
    }
   ],
   "source": [
    "np.full((2,2),7)"
   ]
  },
  {
   "cell_type": "markdown",
   "metadata": {},
   "source": [
    "## Imatrix"
   ]
  },
  {
   "cell_type": "code",
   "execution_count": 10,
   "metadata": {},
   "outputs": [
    {
     "data": {
      "text/plain": [
       "array([[1., 0., 0.],\n",
       "       [0., 1., 0.],\n",
       "       [0., 0., 1.]])"
      ]
     },
     "execution_count": 10,
     "metadata": {},
     "output_type": "execute_result"
    }
   ],
   "source": [
    "# identity matrix\n",
    "np.eye(3)"
   ]
  },
  {
   "cell_type": "markdown",
   "metadata": {},
   "source": [
    "# Properties of Array Object"
   ]
  },
  {
   "cell_type": "code",
   "execution_count": 11,
   "metadata": {},
   "outputs": [
    {
     "name": "stdout",
     "output_type": "stream",
     "text": [
      "[10 20 30 40 50]\n",
      "Type :  int32\n",
      "Size :  5\n",
      "Dimension :  1\n",
      "Shape :  (5,)\n"
     ]
    }
   ],
   "source": [
    "#1 Dimension\n",
    "\n",
    "import numpy\n",
    "my_list=[10,20,30,40,50]\n",
    "arr = numpy.array(my_list)\n",
    "\n",
    "#array\n",
    "print(arr)\n",
    "\n",
    "#Type-Datatype of element inside the array/matrix\n",
    "print(\"Type : \",arr.dtype)\n",
    "\n",
    "#Size-no of elements in array/matrix\n",
    "print(\"Size : \",arr.size)\n",
    "\n",
    "#dimension-1d/2d\n",
    "print(\"Dimension : \",arr.ndim)\n",
    "\n",
    "#shape-no of rows and no of columns\n",
    "print(\"Shape : \",arr.shape)"
   ]
  },
  {
   "cell_type": "code",
   "execution_count": 12,
   "metadata": {},
   "outputs": [
    {
     "name": "stdout",
     "output_type": "stream",
     "text": [
      "[[ 10  20  30]\n",
      " [ 50  60  70]\n",
      " [ 80  90 100]]\n",
      "Type :  int32\n",
      "Size :  9\n",
      "Dimension :  2\n",
      "Shape :  (3, 3)\n"
     ]
    }
   ],
   "source": [
    "# multidimensional array \n",
    "\n",
    "import numpy \n",
    "mylist=[[10,20,30],\n",
    "       [50,60,70],\n",
    "       [80,90,100]]\n",
    "matrix = numpy.array(mylist)\n",
    "\n",
    "#Matrix\n",
    "print(matrix)\n",
    "\n",
    "#Type-Datatype of element inside the array/matrix\n",
    "print(\"Type : \",matrix.dtype)\n",
    "\n",
    "#Size-no of elements in 1d and number of rows in nd\n",
    "print(\"Size : \",matrix.size)\n",
    "\n",
    "#dimension-1d/2d\n",
    "print(\"Dimension : \",matrix.ndim)\n",
    "\n",
    "#shape-no of rows and no of columns\n",
    "print(\"Shape : \",matrix.shape)\n"
   ]
  },
  {
   "cell_type": "markdown",
   "metadata": {},
   "source": [
    "# Process the elements within the Array/Matrix"
   ]
  },
  {
   "cell_type": "code",
   "execution_count": 13,
   "metadata": {},
   "outputs": [
    {
     "name": "stdout",
     "output_type": "stream",
     "text": [
      "10\n",
      "20\n",
      "30\n",
      "40\n",
      "50\n"
     ]
    }
   ],
   "source": [
    "#1d\n",
    "\n",
    "import numpy as np\n",
    "my_list=[10,20,30,40,50]\n",
    "\n",
    "for ele in my_list:\n",
    "    print(ele)\n"
   ]
  },
  {
   "cell_type": "code",
   "execution_count": 14,
   "metadata": {},
   "outputs": [
    {
     "name": "stdout",
     "output_type": "stream",
     "text": [
      "10 20 30 \n",
      "50 60 70 \n",
      "40 50 \n"
     ]
    }
   ],
   "source": [
    "#2d\n",
    "\n",
    "import numpy as np\n",
    "my_list=[[10,20,30],[50,60,70]\n",
    "         ,[40,50]]\n",
    "for row in my_list:\n",
    "    for ele in row:\n",
    "        print(ele,end=\" \")\n",
    "    print()\n"
   ]
  },
  {
   "cell_type": "markdown",
   "metadata": {},
   "source": [
    "# SubMatrix From Matrix Using Slicing"
   ]
  },
  {
   "cell_type": "code",
   "execution_count": 15,
   "metadata": {},
   "outputs": [
    {
     "name": "stdout",
     "output_type": "stream",
     "text": [
      "Matrix : \n",
      " [[ 10  20  30]\n",
      " [ 50  60  70]\n",
      " [ 80  90 100]]\n",
      "\n",
      "full Matrix 1: \n",
      " [[ 10  20  30]\n",
      " [ 50  60  70]\n",
      " [ 80  90 100]]\n",
      "\n",
      "Sub Matrx 2: \n",
      " [[10 20 30]\n",
      " [50 60 70]]\n",
      "\n",
      "Sub Matrix 3: \n",
      " [[ 60  70]\n",
      " [ 90 100]]\n",
      "\n"
     ]
    }
   ],
   "source": [
    "import numpy as np\n",
    "\n",
    "mylist=[[10,20,30],\n",
    "       [50,60,70],\n",
    "       [80,90,100]]\n",
    "\n",
    "mat = np.array(mylist)\n",
    "\n",
    "\n",
    "print(\"Matrix : \\n\" , mat)\n",
    "print()\n",
    "\n",
    "print(\"full Matrix 1: \\n\", mat[0:3,0:3])\n",
    "print()\n",
    "\n",
    "print(\"Sub Matrx 2: \\n\",mat[0:2,0:3])\n",
    "print()\n",
    "\n",
    "print(\"Sub Matrix 3: \\n\", mat[1:,1:])\n",
    "print()\n"
   ]
  },
  {
   "cell_type": "markdown",
   "metadata": {},
   "source": [
    "# Creating 1d array using ndarray()"
   ]
  },
  {
   "cell_type": "code",
   "execution_count": 16,
   "metadata": {},
   "outputs": [
    {
     "name": "stdout",
     "output_type": "stream",
     "text": [
      "Enter Number of elements : 5\n",
      "enter 5 element \n",
      "10\n",
      "20\n",
      "30\n",
      "40\n",
      "50\n",
      "[10 20 30 40 50]\n"
     ]
    }
   ],
   "source": [
    "import numpy as np\n",
    "\n",
    "n= int(input(\"Enter Number of elements : \"))\n",
    "\n",
    "arr = np.ndarray(shape=(n), dtype=int)\n",
    "\n",
    "print(\"enter %d element \"%n)\n",
    "\n",
    "for ele in range(n):\n",
    "    arr[ele]=int(input())\n",
    "    \n",
    "print(arr)"
   ]
  },
  {
   "cell_type": "markdown",
   "metadata": {},
   "source": [
    "# Creating 2d array using ndarray()"
   ]
  },
  {
   "cell_type": "code",
   "execution_count": 17,
   "metadata": {},
   "outputs": [
    {
     "name": "stdout",
     "output_type": "stream",
     "text": [
      "enter number of rows : 2\n",
      "enter numbers of colums: 2\n",
      "enter 4 elements for 2X2 matrix : \n",
      "60\n",
      "70\n",
      "80\n",
      "90\n",
      "Matrix :\n",
      " [[80 80]\n",
      " [90 90]]\n"
     ]
    }
   ],
   "source": [
    "# 2d Array\n",
    "import numpy as np\n",
    "\n",
    "m=int(input(\"enter number of rows : \"))\n",
    "n=int(input(\"enter numbers of colums: \"))\n",
    "\n",
    "print(\"enter %d elements for %dX%d matrix : \"%(m*n,m,n))\n",
    "matrix = np.ndarray(shape=(m,n),dtype=int)\n",
    "\n",
    "for ele in range(m):\n",
    "    for ele1 in range(n):\n",
    "        matrix[ele1]=int(input())\n",
    "\n",
    "print(\"Matrix :\\n\",matrix)\n"
   ]
  },
  {
   "cell_type": "markdown",
   "metadata": {},
   "source": [
    "# Creating nd array using ndarray()"
   ]
  },
  {
   "cell_type": "code",
   "execution_count": 18,
   "metadata": {},
   "outputs": [
    {
     "name": "stdout",
     "output_type": "stream",
     "text": [
      "[[[ 1  2  3]\n",
      "  [ 4  5  6]\n",
      "  [ 7  8  9]]\n",
      "\n",
      " [[10 11 12]\n",
      "  [13 14 15]\n",
      "  [16 17 18]]]\n"
     ]
    }
   ],
   "source": [
    "# nd array \n",
    "\n",
    "import numpy as np\n",
    "\n",
    "arr= np.ndarray(shape=(2,3,3),dtype=int)\n",
    "\n",
    "val=1\n",
    "\n",
    "x=arr.shape[0]\n",
    "y=arr.shape[1]\n",
    "z=arr.shape[2]\n",
    "\n",
    "for i in range(x):\n",
    "    for j in range(y):\n",
    "        for k in range(z):\n",
    "            arr[i][j][k]=val\n",
    "            val=val+1\n",
    "print(arr)\n",
    "\n"
   ]
  },
  {
   "cell_type": "markdown",
   "metadata": {},
   "source": [
    "# reshape of array\n"
   ]
  },
  {
   "cell_type": "code",
   "execution_count": 19,
   "metadata": {},
   "outputs": [
    {
     "name": "stdout",
     "output_type": "stream",
     "text": [
      "Dimension:  1\n",
      "[10 20 30 40 50 60 70 80]\n",
      "\n",
      "Dimension:  3\n",
      "[[[10 20]\n",
      "  [30 40]]\n",
      "\n",
      " [[50 60]\n",
      "  [70 80]]]\n"
     ]
    }
   ],
   "source": [
    "import numpy as np\n",
    "mylist=[10,20,30,40,50,60,70,80]\n",
    "arr = np.array(mylist)\n",
    "print(\"Dimension: \",arr.ndim)\n",
    "print(arr)\n",
    "print()\n",
    "\n",
    "#reshape\n",
    "res = arr.reshape(2,2,2)\n",
    "print(\"Dimension: \",res.ndim)\n",
    "print(res)\n"
   ]
  },
  {
   "cell_type": "code",
   "execution_count": null,
   "metadata": {},
   "outputs": [],
   "source": []
  }
 ],
 "metadata": {
  "kernelspec": {
   "display_name": "Python 3",
   "language": "python",
   "name": "python3"
  },
  "language_info": {
   "codemirror_mode": {
    "name": "ipython",
    "version": 3
   },
   "file_extension": ".py",
   "mimetype": "text/x-python",
   "name": "python",
   "nbconvert_exporter": "python",
   "pygments_lexer": "ipython3",
   "version": "3.7.6"
  }
 },
 "nbformat": 4,
 "nbformat_minor": 4
}
