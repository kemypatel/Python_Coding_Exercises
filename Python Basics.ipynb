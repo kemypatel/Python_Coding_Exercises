{
 "cells": [
  {
   "cell_type": "code",
   "execution_count": 1,
   "metadata": {},
   "outputs": [
    {
     "name": "stdout",
     "output_type": "stream",
     "text": [
      "Hello World\n"
     ]
    }
   ],
   "source": [
    "print(\"Hello World\")"
   ]
  },
  {
   "cell_type": "code",
   "execution_count": 2,
   "metadata": {},
   "outputs": [
    {
     "name": "stdout",
     "output_type": "stream",
     "text": [
      "5 is of type <class 'int'>\n",
      "5.0 is of type <class 'float'>\n",
      "(5+2j) is complex number <class 'complex'>\n"
     ]
    }
   ],
   "source": [
    "# Numbers:\n",
    "a = 5\n",
    "print(a, \"is of type\", type(a))\n",
    "\n",
    "a = 5.0\n",
    "print(a, \"is of type\", type(a))\n",
    "\n",
    "a = 5+2j\n",
    "print(a, \"is complex number\", type(a))\n"
   ]
  },
  {
   "cell_type": "code",
   "execution_count": 3,
   "metadata": {},
   "outputs": [
    {
     "name": "stdout",
     "output_type": "stream",
     "text": [
      "[1, 2.3, 'Medium', 58]\n"
     ]
    }
   ],
   "source": [
    "#lists:\n",
    "\n",
    "lst = [1,2.3,\"Medium\",58]\n",
    "print(lst)"
   ]
  },
  {
   "cell_type": "code",
   "execution_count": 4,
   "metadata": {},
   "outputs": [
    {
     "name": "stdout",
     "output_type": "stream",
     "text": [
      "(1, 2.3, 'Medium', 58)\n"
     ]
    }
   ],
   "source": [
    "#tuples:\n",
    "\n",
    "tup = (1,2.3,\"Medium\",58)\n",
    "print(tup)"
   ]
  },
  {
   "cell_type": "code",
   "execution_count": 5,
   "metadata": {},
   "outputs": [
    {
     "name": "stdout",
     "output_type": "stream",
     "text": [
      "Hello i am string with Double Quotes\n",
      "Hello i am string with Single Quotes\n",
      " Hello i am \n",
      "        multi line string with Double Quotes\n",
      " Hello i am multi line string with \n",
      "        Single Quotes\n",
      "        \n"
     ]
    }
   ],
   "source": [
    "# Strings:\n",
    "\n",
    "st = \"Hello i am string with Double Quotes\"\n",
    "print(st)\n",
    "st1= 'Hello i am string with Single Quotes'\n",
    "print(st1)\n",
    "st2=\"\"\" Hello i am \n",
    "        multi line string with Double Quotes\"\"\"\n",
    "print(st2)\n",
    "st3=''' Hello i am multi line string with \n",
    "        Single Quotes\n",
    "        '''\n",
    "print(st3)"
   ]
  },
  {
   "cell_type": "code",
   "execution_count": 6,
   "metadata": {},
   "outputs": [
    {
     "name": "stdout",
     "output_type": "stream",
     "text": [
      "{2, 4, 5, 6, 8}\n"
     ]
    }
   ],
   "source": [
    "#sets\n",
    "\n",
    "s = {5,4,2,2,2,5,8,6}\n",
    "print(s)"
   ]
  },
  {
   "cell_type": "code",
   "execution_count": 7,
   "metadata": {},
   "outputs": [
    {
     "name": "stdout",
     "output_type": "stream",
     "text": [
      "{1: 'Kemi', 2: 'Patel', 3: 58}\n"
     ]
    }
   ],
   "source": [
    "#Dictionaries:\n",
    "\n",
    "dit = {1:\"Kemi\",2:\"Patel\",3:58}\n",
    "print(dit)"
   ]
  },
  {
   "cell_type": "code",
   "execution_count": 8,
   "metadata": {},
   "outputs": [
    {
     "name": "stdout",
     "output_type": "stream",
     "text": [
      "{'1': 'kemi', 2: 'patel'}\n"
     ]
    }
   ],
   "source": [
    "dit={\"1\":\"kemi\",2:\"patel\"}\n",
    "print(dit)"
   ]
  },
  {
   "cell_type": "code",
   "execution_count": null,
   "metadata": {},
   "outputs": [],
   "source": []
  }
 ],
 "metadata": {
  "kernelspec": {
   "display_name": "Python 3",
   "language": "python",
   "name": "python3"
  },
  "language_info": {
   "codemirror_mode": {
    "name": "ipython",
    "version": 3
   },
   "file_extension": ".py",
   "mimetype": "text/x-python",
   "name": "python",
   "nbconvert_exporter": "python",
   "pygments_lexer": "ipython3",
   "version": "3.7.6"
  }
 },
 "nbformat": 4,
 "nbformat_minor": 4
}
