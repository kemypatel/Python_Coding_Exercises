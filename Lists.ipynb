{
 "cells": [
  {
   "cell_type": "markdown",
   "metadata": {},
   "source": [
    "## Creating a List"
   ]
  },
  {
   "cell_type": "code",
   "execution_count": 1,
   "metadata": {},
   "outputs": [
    {
     "name": "stdout",
     "output_type": "stream",
     "text": [
      "[1, 2.3, 'Medium', 58]\n"
     ]
    }
   ],
   "source": [
    "# list with different datatype element\n",
    "\n",
    "st1 = [1, 2.3, \"Medium\", 58]\n",
    "print(st1)"
   ]
  },
  {
   "cell_type": "code",
   "execution_count": 2,
   "metadata": {},
   "outputs": [
    {
     "name": "stdout",
     "output_type": "stream",
     "text": [
      "[1, 2, 3]\n"
     ]
    }
   ],
   "source": [
    "# list with same datatype of element\n",
    "\n",
    "st2 = [1,2,3]\n",
    "print(st2)"
   ]
  },
  {
   "cell_type": "code",
   "execution_count": 3,
   "metadata": {},
   "outputs": [
    {
     "name": "stdout",
     "output_type": "stream",
     "text": [
      "4\n",
      "3\n"
     ]
    }
   ],
   "source": [
    "#length of list st2 and st1\n",
    "\n",
    "print(len(st1))\n",
    "print(len(st2))"
   ]
  },
  {
   "cell_type": "markdown",
   "metadata": {},
   "source": [
    "## Indexing and Slicing in List "
   ]
  },
  {
   "cell_type": "code",
   "execution_count": 4,
   "metadata": {},
   "outputs": [
    {
     "name": "stdout",
     "output_type": "stream",
     "text": [
      "50\n",
      "80\n",
      "60\n",
      "10\n",
      "25\n"
     ]
    }
   ],
   "source": [
    "# ACCESSING ELEMENT OF LIST and lets try to grab each element:\n",
    "\n",
    "st = [50,80,60,10,25,48]\n",
    "\n",
    "print(st[0])\n",
    "print(st[1])\n",
    "print(st[2])\n",
    "print(st[3])\n",
    "print(st[4])"
   ]
  },
  {
   "cell_type": "code",
   "execution_count": 5,
   "metadata": {},
   "outputs": [
    {
     "name": "stdout",
     "output_type": "stream",
     "text": [
      "[3, 4, 5, 6]\n"
     ]
    }
   ],
   "source": [
    "# SLICING OF ELEMENT \n",
    "\n",
    "# try to grab all the element starting from index 2\n",
    "\n",
    "st=[1,2,3,4,5,6]\n",
    "print(st[2:])\n"
   ]
  },
  {
   "cell_type": "code",
   "execution_count": 6,
   "metadata": {},
   "outputs": [
    {
     "name": "stdout",
     "output_type": "stream",
     "text": [
      "[3, 4, 5]\n"
     ]
    }
   ],
   "source": [
    "# try to grab all the elements between index 1 to index 4\n",
    "\n",
    "st =[1,2,3,4,5,6]\n",
    "print(st[2:5])\n",
    "\n",
    "# we took index 5 because it will grab elements upto n-1 i,e 5-1= 4\n"
   ]
  },
  {
   "cell_type": "code",
   "execution_count": 7,
   "metadata": {},
   "outputs": [
    {
     "name": "stdout",
     "output_type": "stream",
     "text": [
      "[1, 3, 5]\n"
     ]
    }
   ],
   "source": [
    "# try to grab all the elements with step size 2\n",
    "\n",
    "st=[1,2,3,4,5,6]\n",
    "print(st[::2])\n"
   ]
  },
  {
   "cell_type": "code",
   "execution_count": 8,
   "metadata": {},
   "outputs": [
    {
     "name": "stdout",
     "output_type": "stream",
     "text": [
      "6\n"
     ]
    }
   ],
   "source": [
    "# try to grab last element using negative indexing\n",
    "\n",
    "st=[1,2,3,4,5,6]\n",
    "print(st[-1])"
   ]
  },
  {
   "cell_type": "code",
   "execution_count": 9,
   "metadata": {},
   "outputs": [
    {
     "name": "stdout",
     "output_type": "stream",
     "text": [
      "[6, 5, 4, 3, 2, 1]\n"
     ]
    }
   ],
   "source": [
    "# try to print rverse list \n",
    "\n",
    "st=[1,2,3,4,5,6]\n",
    "print(st[::-1])\n"
   ]
  },
  {
   "cell_type": "markdown",
   "metadata": {},
   "source": [
    "\n",
    "## List Methods"
   ]
  },
  {
   "cell_type": "code",
   "execution_count": 10,
   "metadata": {},
   "outputs": [
    {
     "name": "stdout",
     "output_type": "stream",
     "text": [
      "append :  [1, 2, 3, 4, 5]\n",
      "extend :  [1, 2, 3, 4, 5, 11, 22, 33, 44]\n",
      "insert :  [1, 2, 50, 3, 4, 5, 11, 22, 33, 44]\n",
      "remove :  [1, 2, 3, 4, 5, 11, 22, 33, 44]\n",
      "pop    :  [1, 2, 3, 4, 5, 11, 22, 33]\n",
      "index  :  [1, 2, 3, 4, 5, 11, 22, 33]\n",
      "index  :  5\n",
      "[1, 2, 3, 4, 5, 11, 22, 33, 11, 11, 22]\n",
      "count  :  3\n",
      "Sort   :  [1, 2, 3, 4, 5, 11, 11, 11, 22, 22, 33]\n",
      "reverse :  [22, 11, 11, 33, 22, 11, 5, 4, 3, 2, 1]\n",
      "list2   :  [22, 11, 11, 33, 22, 11, 5, 4, 3, 2, 1]\n"
     ]
    }
   ],
   "source": [
    "list1=[1,2,3,4]\n",
    "\n",
    "list1.append(5)\n",
    "print(\"append : \",list1)\n",
    "\n",
    "list1.extend([11,22,33,44])\n",
    "print(\"extend : \",list1)\n",
    "\n",
    "list1.insert(2,50)\n",
    "print(\"insert : \",list1)\n",
    "\n",
    "list1.remove(50)\n",
    "print(\"remove : \",list1)\n",
    "\n",
    "list1.pop()\n",
    "print(\"pop    : \",list1)\n",
    "\n",
    "list1.index(11)\n",
    "print(\"index  : \",list1) # returns full list \n",
    "print(\"index  : \",list1.index(11)) # returns the index of element 11 \n",
    "\n",
    "list1.extend([11,11,22])\n",
    "print(list1) # adding same element to show the use of count\n",
    "\n",
    "print(\"count  : \",list1.count(11))\n",
    "\n",
    "print(\"Sort   : \",sorted(list1))\n",
    "\n",
    "list1.reverse()\n",
    "print(\"reverse : \",list1)\n",
    "\n",
    "list2 = list1.copy()\n",
    "print(\"list2   : \",list2)\n"
   ]
  },
  {
   "cell_type": "markdown",
   "metadata": {},
   "source": [
    "## Nesting List"
   ]
  },
  {
   "cell_type": "code",
   "execution_count": 11,
   "metadata": {},
   "outputs": [],
   "source": [
    "# Let's make three lists\n",
    "lst_1=[1,2,3]\n",
    "lst_2=[4,5,6]\n",
    "lst_3=[7,8,9]\n",
    "\n",
    "# Make a list of lists to form a matrix\n",
    "matrix = [lst_1,lst_2,lst_3]"
   ]
  },
  {
   "cell_type": "code",
   "execution_count": 12,
   "metadata": {},
   "outputs": [
    {
     "data": {
      "text/plain": [
       "[[1, 2, 3], [4, 5, 6], [7, 8, 9]]"
      ]
     },
     "execution_count": 12,
     "metadata": {},
     "output_type": "execute_result"
    }
   ],
   "source": [
    "# Show\n",
    "matrix"
   ]
  },
  {
   "cell_type": "code",
   "execution_count": 13,
   "metadata": {},
   "outputs": [
    {
     "data": {
      "text/plain": [
       "[1, 2, 3]"
      ]
     },
     "execution_count": 13,
     "metadata": {},
     "output_type": "execute_result"
    }
   ],
   "source": [
    "# Grab first item in matrix object\n",
    "matrix[0]"
   ]
  },
  {
   "cell_type": "code",
   "execution_count": 14,
   "metadata": {},
   "outputs": [
    {
     "data": {
      "text/plain": [
       "1"
      ]
     },
     "execution_count": 14,
     "metadata": {},
     "output_type": "execute_result"
    }
   ],
   "source": [
    "# Grab first item of the first item in the matrix object\n",
    "matrix[0][0]"
   ]
  },
  {
   "cell_type": "markdown",
   "metadata": {},
   "source": [
    "## List Comprehension"
   ]
  },
  {
   "cell_type": "code",
   "execution_count": 15,
   "metadata": {},
   "outputs": [
    {
     "name": "stdout",
     "output_type": "stream",
     "text": [
      "[1, 4, 9, 16]\n"
     ]
    }
   ],
   "source": [
    "numbers = [1, 2, 3, 4]\n",
    "squares = [n**2 for n in numbers]\n",
    "\n",
    "print(squares)"
   ]
  },
  {
   "cell_type": "code",
   "execution_count": null,
   "metadata": {},
   "outputs": [],
   "source": []
  }
 ],
 "metadata": {
  "kernelspec": {
   "display_name": "Python 3",
   "language": "python",
   "name": "python3"
  },
  "language_info": {
   "codemirror_mode": {
    "name": "ipython",
    "version": 3
   },
   "file_extension": ".py",
   "mimetype": "text/x-python",
   "name": "python",
   "nbconvert_exporter": "python",
   "pygments_lexer": "ipython3",
   "version": "3.7.6"
  }
 },
 "nbformat": 4,
 "nbformat_minor": 4
}
